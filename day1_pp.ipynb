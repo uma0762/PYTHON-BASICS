{
  "cells": [
    {
      "cell_type": "markdown",
      "metadata": {
        "id": "view-in-github",
        "colab_type": "text"
      },
      "source": [
        "<a href=\"https://colab.research.google.com/github/uma0762/PYTHON-BASICS/blob/main/day1_pp.ipynb\" target=\"_parent\"><img src=\"https://colab.research.google.com/assets/colab-badge.svg\" alt=\"Open In Colab\"/></a>"
      ]
    },
    {
      "cell_type": "code",
      "execution_count": null,
      "id": "58ef3b75",
      "metadata": {
        "id": "58ef3b75"
      },
      "outputs": [],
      "source": [
        "# input, output,variables, data types, \n",
        "# data types()\n",
        "# loops , loop control and error handling\n",
        "# functions \n",
        "# classes and objects\n",
        "\n",
        "#3 days EDA- doing\n",
        "\n",
        "# machine learning"
      ]
    },
    {
      "cell_type": "code",
      "execution_count": null,
      "id": "86b235ef",
      "metadata": {
        "id": "86b235ef",
        "outputId": "fdf68f85-2a49-44df-d7b2-81a588b45b50"
      },
      "outputs": [
        {
          "name": "stdout",
          "output_type": "stream",
          "text": [
            "hello people\n",
            "hello world\n"
          ]
        }
      ],
      "source": [
        "print(\"hello people\")\n",
        "print('hello world')"
      ]
    },
    {
      "cell_type": "code",
      "execution_count": null,
      "id": "855e565c",
      "metadata": {
        "id": "855e565c",
        "outputId": "8eff9fab-4334-45be-d14f-fadcd188308a"
      },
      "outputs": [
        {
          "name": "stdout",
          "output_type": "stream",
          "text": [
            "1\n"
          ]
        }
      ],
      "source": [
        "print(1)"
      ]
    },
    {
      "cell_type": "code",
      "execution_count": null,
      "id": "23db110a",
      "metadata": {
        "id": "23db110a",
        "outputId": "9c5416fa-fb3f-4376-c78d-7cca91e529d1"
      },
      "outputs": [
        {
          "name": "stdout",
          "output_type": "stream",
          "text": [
            "how are uabhishek\n"
          ]
        },
        {
          "data": {
            "text/plain": [
              "'abhishek'"
            ]
          },
          "execution_count": 7,
          "metadata": {},
          "output_type": "execute_result"
        }
      ],
      "source": [
        "input(\"how are u\")"
      ]
    },
    {
      "cell_type": "code",
      "execution_count": null,
      "id": "a09c5cd2",
      "metadata": {
        "id": "a09c5cd2"
      },
      "outputs": [],
      "source": [
        "# varibale are those which can take any value"
      ]
    },
    {
      "cell_type": "code",
      "execution_count": null,
      "id": "d040514f",
      "metadata": {
        "id": "d040514f",
        "outputId": "c5a50223-f493-4161-d0ac-829ead172b33"
      },
      "outputs": [
        {
          "ename": "SyntaxError",
          "evalue": "invalid syntax (Temp/ipykernel_16944/4278600428.py, line 1)",
          "output_type": "error",
          "traceback": [
            "\u001b[1;36m  File \u001b[1;32m\"C:\\Users\\abhishek\\AppData\\Local\\Temp/ipykernel_16944/4278600428.py\"\u001b[1;36m, line \u001b[1;32m1\u001b[0m\n\u001b[1;33m    12hhs= 2\u001b[0m\n\u001b[1;37m      ^\u001b[0m\n\u001b[1;31mSyntaxError\u001b[0m\u001b[1;31m:\u001b[0m invalid syntax\n"
          ]
        }
      ],
      "source": [
        "12hhs= 2"
      ]
    },
    {
      "cell_type": "code",
      "execution_count": null,
      "id": "83e90606",
      "metadata": {
        "id": "83e90606"
      },
      "outputs": [],
      "source": [
        "n = 2"
      ]
    },
    {
      "cell_type": "code",
      "execution_count": null,
      "id": "19411946",
      "metadata": {
        "id": "19411946"
      },
      "outputs": [],
      "source": [
        "ab = 2"
      ]
    },
    {
      "cell_type": "code",
      "execution_count": null,
      "id": "6a85dc0a",
      "metadata": {
        "id": "6a85dc0a",
        "outputId": "9175822e-966c-450c-d99b-23ec5f7c56e7"
      },
      "outputs": [
        {
          "name": "stdout",
          "output_type": "stream",
          "text": [
            "2\n"
          ]
        }
      ],
      "source": [
        "print(ab)"
      ]
    },
    {
      "cell_type": "code",
      "execution_count": null,
      "id": "df6a877e",
      "metadata": {
        "id": "df6a877e"
      },
      "outputs": [],
      "source": [
        "name = \"abhishek\""
      ]
    },
    {
      "cell_type": "code",
      "execution_count": null,
      "id": "0b68aed0",
      "metadata": {
        "id": "0b68aed0",
        "outputId": "a06065cd-02ae-4858-ee84-2762fdaf0e4a"
      },
      "outputs": [
        {
          "name": "stdout",
          "output_type": "stream",
          "text": [
            "abhishek\n",
            "abhishek\n"
          ]
        }
      ],
      "source": [
        "print(name)\n",
        "print(\"abhishek\")"
      ]
    },
    {
      "cell_type": "code",
      "execution_count": null,
      "id": "97572ea1",
      "metadata": {
        "id": "97572ea1",
        "outputId": "10b7c5f0-e091-460c-bb81-691706e5205c"
      },
      "outputs": [
        {
          "name": "stdout",
          "output_type": "stream",
          "text": [
            "12\n"
          ]
        }
      ],
      "source": [
        "print(12)"
      ]
    },
    {
      "cell_type": "code",
      "execution_count": null,
      "id": "a3a30831",
      "metadata": {
        "id": "a3a30831"
      },
      "outputs": [],
      "source": [
        "# why varibale name cannot can not with number."
      ]
    },
    {
      "cell_type": "code",
      "execution_count": null,
      "id": "0a8cc11c",
      "metadata": {
        "id": "0a8cc11c"
      },
      "outputs": [],
      "source": [
        "#datatypes: \n",
        "# string,int,float,complex, boolean, list,tupple,dict,set"
      ]
    },
    {
      "cell_type": "code",
      "execution_count": null,
      "id": "52c14a4f",
      "metadata": {
        "id": "52c14a4f"
      },
      "outputs": [],
      "source": [
        "name = \"Saksham\""
      ]
    },
    {
      "cell_type": "code",
      "execution_count": null,
      "id": "cd5ff164",
      "metadata": {
        "id": "cd5ff164",
        "outputId": "66da3c04-d64e-474f-9a67-2b18234fda47"
      },
      "outputs": [
        {
          "name": "stdout",
          "output_type": "stream",
          "text": [
            "<class 'str'>\n"
          ]
        }
      ],
      "source": [
        "print(type(name))"
      ]
    },
    {
      "cell_type": "code",
      "execution_count": null,
      "id": "03db4cf1",
      "metadata": {
        "id": "03db4cf1",
        "outputId": "ae816a01-d1dc-4c99-c534-84b4b909eb8e"
      },
      "outputs": [
        {
          "name": "stdout",
          "output_type": "stream",
          "text": [
            "<class 'int'>\n",
            "12\n"
          ]
        }
      ],
      "source": [
        "n = 12\n",
        "print(type(n))\n",
        "print(n)"
      ]
    },
    {
      "cell_type": "code",
      "execution_count": null,
      "id": "f9aa40d3",
      "metadata": {
        "id": "f9aa40d3",
        "outputId": "b55ad6f8-a969-4934-918e-0739fa2d175e"
      },
      "outputs": [
        {
          "name": "stdout",
          "output_type": "stream",
          "text": [
            "<class 'float'>\n",
            "1.1\n"
          ]
        }
      ],
      "source": [
        "f = 1.1\n",
        "print(type(f))\n",
        "print(f)"
      ]
    },
    {
      "cell_type": "code",
      "execution_count": null,
      "id": "efaecf90",
      "metadata": {
        "id": "efaecf90",
        "outputId": "8403fb0f-646b-4c4f-87ef-de3b3c23e672"
      },
      "outputs": [
        {
          "name": "stdout",
          "output_type": "stream",
          "text": [
            "<class 'complex'>\n"
          ]
        }
      ],
      "source": [
        "c = 12 +12j\n",
        "d = 9j\n",
        "print(type(c))"
      ]
    },
    {
      "cell_type": "code",
      "execution_count": null,
      "id": "b1ce3fdb",
      "metadata": {
        "id": "b1ce3fdb",
        "outputId": "c66d20d1-b375-45b4-c5de-1db778903a8a"
      },
      "outputs": [
        {
          "name": "stdout",
          "output_type": "stream",
          "text": [
            "(12+21j)\n"
          ]
        }
      ],
      "source": [
        "print(c+d)"
      ]
    },
    {
      "cell_type": "code",
      "execution_count": null,
      "id": "2713f3e7",
      "metadata": {
        "id": "2713f3e7",
        "outputId": "fd88a958-582f-4b17-f399-2c891f3c124b"
      },
      "outputs": [
        {
          "name": "stdout",
          "output_type": "stream",
          "text": [
            "<class 'bool'>\n"
          ]
        }
      ],
      "source": [
        "print(type(True))"
      ]
    },
    {
      "cell_type": "code",
      "execution_count": null,
      "id": "391f1f37",
      "metadata": {
        "id": "391f1f37"
      },
      "outputs": [],
      "source": []
    }
  ],
  "metadata": {
    "kernelspec": {
      "display_name": "Python 3 (ipykernel)",
      "language": "python",
      "name": "python3"
    },
    "language_info": {
      "codemirror_mode": {
        "name": "ipython",
        "version": 3
      },
      "file_extension": ".py",
      "mimetype": "text/x-python",
      "name": "python",
      "nbconvert_exporter": "python",
      "pygments_lexer": "ipython3",
      "version": "3.9.7"
    },
    "colab": {
      "provenance": [],
      "include_colab_link": true
    }
  },
  "nbformat": 4,
  "nbformat_minor": 5
}