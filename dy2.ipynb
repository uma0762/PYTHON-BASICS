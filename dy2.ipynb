{
  "cells": [
    {
      "cell_type": "markdown",
      "metadata": {
        "id": "view-in-github",
        "colab_type": "text"
      },
      "source": [
        "<a href=\"https://colab.research.google.com/github/uma0762/PYTHON-BASICS/blob/main/dy2.ipynb\" target=\"_parent\"><img src=\"https://colab.research.google.com/assets/colab-badge.svg\" alt=\"Open In Colab\"/></a>"
      ]
    },
    {
      "cell_type": "code",
      "execution_count": null,
      "id": "bcffb541",
      "metadata": {
        "id": "bcffb541"
      },
      "outputs": [],
      "source": [
        "# list operations"
      ]
    },
    {
      "cell_type": "code",
      "execution_count": null,
      "id": "0190c352",
      "metadata": {
        "id": "0190c352",
        "outputId": "5f65cf56-e737-483b-cca2-9e650e0b751b"
      },
      "outputs": [
        {
          "data": {
            "text/plain": [
              "['python', 'c++', 'c', 'java', 'golang', 'javascript']"
            ]
          },
          "execution_count": 2,
          "metadata": {},
          "output_type": "execute_result"
        }
      ],
      "source": [
        "[\"python\", \"c++\", \"c\", \"java\", \"golang\", \"javascript\"]"
      ]
    },
    {
      "cell_type": "code",
      "execution_count": null,
      "id": "4afe26c6",
      "metadata": {
        "id": "4afe26c6",
        "outputId": "69e35b7d-dafb-4c84-c93b-996f7eadc4a2"
      },
      "outputs": [
        {
          "data": {
            "text/plain": [
              "[147, 148, 37, 4, 7, 'python', 'c++', 2.1]"
            ]
          },
          "execution_count": 3,
          "metadata": {},
          "output_type": "execute_result"
        }
      ],
      "source": [
        "[147, 148, 37, 4, 7, \"python\", \"c++\", 2.1,]"
      ]
    },
    {
      "cell_type": "code",
      "execution_count": null,
      "id": "7091b2e7",
      "metadata": {
        "id": "7091b2e7",
        "outputId": "ad2ff4b2-b494-4e45-a4f8-bf42a86051e8"
      },
      "outputs": [
        {
          "data": {
            "text/plain": [
              "['pyhton', ['c', 'c++'], ['java'], 'javascript']"
            ]
          },
          "execution_count": 4,
          "metadata": {},
          "output_type": "execute_result"
        }
      ],
      "source": [
        "[\"pyhton\", [\"c\", \"c++\"], [\"java\"], \"javascript\"]"
      ]
    },
    {
      "cell_type": "code",
      "execution_count": null,
      "id": "41fdc054",
      "metadata": {
        "id": "41fdc054"
      },
      "outputs": [],
      "source": [
        "my_list = []"
      ]
    },
    {
      "cell_type": "code",
      "execution_count": null,
      "id": "820bf76a",
      "metadata": {
        "id": "820bf76a",
        "outputId": "fdee7e5f-bb18-4c07-eac2-b385480e26b5"
      },
      "outputs": [
        {
          "data": {
            "text/plain": [
              "list"
            ]
          },
          "execution_count": 6,
          "metadata": {},
          "output_type": "execute_result"
        }
      ],
      "source": [
        "type(my_list)"
      ]
    },
    {
      "cell_type": "code",
      "execution_count": null,
      "id": "55389330",
      "metadata": {
        "id": "55389330"
      },
      "outputs": [],
      "source": [
        "my_list = [\"skasham\", \"divya\", \"santosh\"]"
      ]
    },
    {
      "cell_type": "code",
      "execution_count": null,
      "id": "462a8404",
      "metadata": {
        "id": "462a8404"
      },
      "outputs": [],
      "source": [
        "#indexing in python\n",
        "# positve index , negative index"
      ]
    },
    {
      "cell_type": "code",
      "execution_count": null,
      "id": "eb9b2923",
      "metadata": {
        "id": "eb9b2923"
      },
      "outputs": [],
      "source": [
        "students = [\"skasham\", \"divya\", \"santosh\"]\n",
        "#positive    0            1         2  --->left to right\n",
        "#negative   -3           -2        -1  --->right to left"
      ]
    },
    {
      "cell_type": "code",
      "execution_count": null,
      "id": "4919f87d",
      "metadata": {
        "id": "4919f87d",
        "outputId": "899f3453-a1fa-4ef5-c66f-1599f4514b58"
      },
      "outputs": [
        {
          "data": {
            "text/plain": [
              "'santosh'"
            ]
          },
          "execution_count": 13,
          "metadata": {},
          "output_type": "execute_result"
        }
      ],
      "source": [
        "#indexing\n",
        "students[2] # positive indexing"
      ]
    },
    {
      "cell_type": "code",
      "execution_count": null,
      "id": "a5df8043",
      "metadata": {
        "id": "a5df8043",
        "outputId": "5767c140-2342-45d0-c720-7f799e994c7b"
      },
      "outputs": [
        {
          "data": {
            "text/plain": [
              "'santosh'"
            ]
          },
          "execution_count": 14,
          "metadata": {},
          "output_type": "execute_result"
        }
      ],
      "source": [
        "students[-1]"
      ]
    },
    {
      "cell_type": "code",
      "execution_count": null,
      "id": "6414f600",
      "metadata": {
        "id": "6414f600",
        "outputId": "84e455f4-c513-4724-fad2-aa6cc0d845be"
      },
      "outputs": [
        {
          "data": {
            "text/plain": [
              "'divya'"
            ]
          },
          "execution_count": 15,
          "metadata": {},
          "output_type": "execute_result"
        }
      ],
      "source": [
        "students[-2]"
      ]
    },
    {
      "cell_type": "code",
      "execution_count": null,
      "id": "180206a6",
      "metadata": {
        "id": "180206a6"
      },
      "outputs": [],
      "source": [
        "students = [\"skasham\", \"divya\", \"santosh\",\"neeraj\", \"satwik\", \"uma\", \"pritwish\"]\n",
        "#positve     0          1          2        3         4         5        6"
      ]
    },
    {
      "cell_type": "code",
      "execution_count": null,
      "id": "6947f155",
      "metadata": {
        "id": "6947f155",
        "outputId": "0d4b617b-463b-4d72-dafb-a0578bc9e938"
      },
      "outputs": [
        {
          "data": {
            "text/plain": [
              "['divya', 'santosh', 'neeraj', 'satwik', 'uma', 'pritwish']"
            ]
          },
          "execution_count": 18,
          "metadata": {},
          "output_type": "execute_result"
        }
      ],
      "source": [
        "#sclicing\n",
        "#list[start:end:step]\n",
        "students[1:]"
      ]
    },
    {
      "cell_type": "code",
      "execution_count": null,
      "id": "acdb36d7",
      "metadata": {
        "id": "acdb36d7",
        "outputId": "38767fe5-d1f8-4732-cff5-ebf88035ed57"
      },
      "outputs": [
        {
          "data": {
            "text/plain": [
              "['skasham', 'divya', 'santosh', 'neeraj', 'satwik', 'uma', 'pritwish']"
            ]
          },
          "execution_count": 19,
          "metadata": {},
          "output_type": "execute_result"
        }
      ],
      "source": [
        "students[::]"
      ]
    },
    {
      "cell_type": "code",
      "execution_count": null,
      "id": "1c25e30c",
      "metadata": {
        "id": "1c25e30c",
        "outputId": "7ec0c9ab-2660-4179-a092-aad819f6594d"
      },
      "outputs": [
        {
          "data": {
            "text/plain": [
              "['skasham', 'divya', 'santosh', 'neeraj', 'satwik', 'uma']"
            ]
          },
          "execution_count": 20,
          "metadata": {},
          "output_type": "execute_result"
        }
      ],
      "source": [
        "students[:6]"
      ]
    },
    {
      "cell_type": "code",
      "execution_count": null,
      "id": "04600a27",
      "metadata": {
        "id": "04600a27",
        "outputId": "43fa088f-1403-4f94-9725-29891c4c7c3b"
      },
      "outputs": [
        {
          "data": {
            "text/plain": [
              "['divya', 'santosh', 'neeraj', 'satwik', 'uma']"
            ]
          },
          "execution_count": 21,
          "metadata": {},
          "output_type": "execute_result"
        }
      ],
      "source": [
        "students[1:6]"
      ]
    },
    {
      "cell_type": "code",
      "execution_count": null,
      "id": "1bec7322",
      "metadata": {
        "id": "1bec7322",
        "outputId": "6f229989-7200-48ae-f646-cf50bc3540f0"
      },
      "outputs": [
        {
          "data": {
            "text/plain": [
              "['skasham', 'neeraj', 'pritwish']"
            ]
          },
          "execution_count": 25,
          "metadata": {},
          "output_type": "execute_result"
        }
      ],
      "source": [
        "students[::3]"
      ]
    },
    {
      "cell_type": "code",
      "execution_count": null,
      "id": "f1ecc01a",
      "metadata": {
        "id": "f1ecc01a"
      },
      "outputs": [],
      "source": [
        "students = [\"skasham\", \"divya\", \"santosh\",\"neeraj\", \"satwik\", \"uma\", \"pritwish\"]\n",
        "#positve     0          1          2        3         4         5        6"
      ]
    },
    {
      "cell_type": "code",
      "execution_count": null,
      "id": "560b0a21",
      "metadata": {
        "id": "560b0a21",
        "outputId": "915b7f1e-61ad-4d14-9a81-d7ce4c0c74cc"
      },
      "outputs": [
        {
          "data": {
            "text/plain": [
              "['skasham', 'divya', 'santosh', 'neeraj', 'satwik', 'uma', 'pritwish']"
            ]
          },
          "execution_count": 42,
          "metadata": {},
          "output_type": "execute_result"
        }
      ],
      "source": [
        "students[::1]"
      ]
    },
    {
      "cell_type": "code",
      "execution_count": null,
      "id": "0ef4482d",
      "metadata": {
        "id": "0ef4482d",
        "outputId": "b406b401-12c3-42ef-f67a-5d52d4233777"
      },
      "outputs": [
        {
          "data": {
            "text/plain": [
              "['pritwish', 'uma', 'satwik', 'neeraj', 'santosh', 'divya', 'skasham']"
            ]
          },
          "execution_count": 43,
          "metadata": {},
          "output_type": "execute_result"
        }
      ],
      "source": [
        "students[::-1]"
      ]
    },
    {
      "cell_type": "code",
      "execution_count": null,
      "id": "51b44733",
      "metadata": {
        "id": "51b44733"
      },
      "outputs": [],
      "source": [
        "#operation with list"
      ]
    },
    {
      "cell_type": "code",
      "execution_count": null,
      "id": "857bb179",
      "metadata": {
        "id": "857bb179",
        "outputId": "c26d65b9-8b50-4fc8-d0c4-1e884ef4d422"
      },
      "outputs": [
        {
          "data": {
            "text/plain": [
              "['skasham', 'divya', 'santosh', 'neeraj', 'satwik', 'uma', 'pritwish']"
            ]
          },
          "execution_count": 45,
          "metadata": {},
          "output_type": "execute_result"
        }
      ],
      "source": [
        "students"
      ]
    },
    {
      "cell_type": "code",
      "execution_count": null,
      "id": "de24a763",
      "metadata": {
        "id": "de24a763"
      },
      "outputs": [],
      "source": [
        "# adding an element to the list\n",
        "students.append(\"Dona\")"
      ]
    },
    {
      "cell_type": "code",
      "execution_count": null,
      "id": "d657eadb",
      "metadata": {
        "id": "d657eadb",
        "outputId": "adcee189-cce7-40ad-d379-5fe37d3563cf"
      },
      "outputs": [
        {
          "data": {
            "text/plain": [
              "['skasham', 'divya', 'santosh', 'neeraj', 'satwik', 'uma', 'pritwish', 'Dona']"
            ]
          },
          "execution_count": 47,
          "metadata": {},
          "output_type": "execute_result"
        }
      ],
      "source": [
        "students"
      ]
    },
    {
      "cell_type": "code",
      "execution_count": null,
      "id": "6b22efe1",
      "metadata": {
        "id": "6b22efe1"
      },
      "outputs": [],
      "source": [
        "stu = [\"diya\", \"kiya\", \"ketam\", \"amritha\"]"
      ]
    },
    {
      "cell_type": "code",
      "execution_count": null,
      "id": "f4284b4d",
      "metadata": {
        "id": "f4284b4d"
      },
      "outputs": [],
      "source": [
        "students.extend(stu)"
      ]
    },
    {
      "cell_type": "code",
      "execution_count": null,
      "id": "f0520131",
      "metadata": {
        "id": "f0520131",
        "outputId": "9a84d9e8-3a55-4138-adfd-34d0a1bf19f8"
      },
      "outputs": [
        {
          "name": "stdout",
          "output_type": "stream",
          "text": [
            "['skasham', 'divya', 'santosh', 'neeraj', 'satwik', 'uma', 'pritwish', 'Dona', 'diya', 'kiya', 'ketam', 'amritha']\n"
          ]
        }
      ],
      "source": [
        "print(students)"
      ]
    },
    {
      "cell_type": "code",
      "execution_count": null,
      "id": "2334bc08",
      "metadata": {
        "id": "2334bc08"
      },
      "outputs": [],
      "source": [
        "students.remove(\"kiya\")"
      ]
    },
    {
      "cell_type": "code",
      "execution_count": null,
      "id": "8af94384",
      "metadata": {
        "id": "8af94384",
        "outputId": "ec2a1cb6-1e9d-4392-dd91-c997a9191de2"
      },
      "outputs": [
        {
          "name": "stdout",
          "output_type": "stream",
          "text": [
            "['skasham', 'divya', 'santosh', 'neeraj', 'satwik', 'uma', 'pritwish', 'Dona', 'diya', 'ketam', 'amritha']\n"
          ]
        }
      ],
      "source": [
        "print(students)"
      ]
    },
    {
      "cell_type": "code",
      "execution_count": null,
      "id": "302e18ec",
      "metadata": {
        "id": "302e18ec",
        "outputId": "88d726aa-4670-4f9d-a649-9dfd7becce5f"
      },
      "outputs": [
        {
          "data": {
            "text/plain": [
              "'amritha'"
            ]
          },
          "execution_count": 53,
          "metadata": {},
          "output_type": "execute_result"
        }
      ],
      "source": [
        "students.pop()"
      ]
    },
    {
      "cell_type": "code",
      "execution_count": null,
      "id": "55435a11",
      "metadata": {
        "id": "55435a11",
        "outputId": "c925746e-57d5-4713-e42f-7848c90dd856"
      },
      "outputs": [
        {
          "name": "stdout",
          "output_type": "stream",
          "text": [
            "['skasham', 'divya', 'santosh', 'neeraj', 'satwik', 'uma', 'pritwish', 'Dona', 'diya', 'ketam']\n"
          ]
        }
      ],
      "source": [
        "print(students)"
      ]
    },
    {
      "cell_type": "code",
      "execution_count": null,
      "id": "7c724312",
      "metadata": {
        "id": "7c724312",
        "outputId": "aff25f0a-cfbf-4e52-cb14-0d6b2cdc6c86"
      },
      "outputs": [
        {
          "data": {
            "text/plain": [
              "'skasham'"
            ]
          },
          "execution_count": 55,
          "metadata": {},
          "output_type": "execute_result"
        }
      ],
      "source": [
        "students.pop(0)"
      ]
    },
    {
      "cell_type": "code",
      "execution_count": null,
      "id": "a2b833a9",
      "metadata": {
        "id": "a2b833a9",
        "outputId": "be91b8c0-e561-42b9-db6c-d8d59f8c13c5"
      },
      "outputs": [
        {
          "name": "stdout",
          "output_type": "stream",
          "text": [
            "['divya', 'santosh', 'neeraj', 'satwik', 'uma', 'pritwish', 'Dona', 'diya', 'ketam']\n"
          ]
        }
      ],
      "source": [
        "print(students)"
      ]
    },
    {
      "cell_type": "code",
      "execution_count": null,
      "id": "0635be3b",
      "metadata": {
        "id": "0635be3b"
      },
      "outputs": [],
      "source": [
        "students.insert(0,\"saksham\")"
      ]
    },
    {
      "cell_type": "code",
      "execution_count": null,
      "id": "5745a61b",
      "metadata": {
        "id": "5745a61b",
        "outputId": "30cd1baa-404f-43d6-fc85-acdf64366745"
      },
      "outputs": [
        {
          "name": "stdout",
          "output_type": "stream",
          "text": [
            "['saksham', 'divya', 'santosh', 'neeraj', 'satwik', 'uma', 'pritwish', 'Dona', 'diya', 'ketam']\n"
          ]
        }
      ],
      "source": [
        "print(students)"
      ]
    },
    {
      "cell_type": "code",
      "execution_count": null,
      "id": "885800df",
      "metadata": {
        "id": "885800df",
        "outputId": "37482f95-389b-4882-fec5-679e6e8d5538"
      },
      "outputs": [
        {
          "data": {
            "text/plain": [
              "5"
            ]
          },
          "execution_count": 62,
          "metadata": {},
          "output_type": "execute_result"
        }
      ],
      "source": [
        "students.index(\"uma\")"
      ]
    },
    {
      "cell_type": "code",
      "execution_count": null,
      "id": "ca625554",
      "metadata": {
        "id": "ca625554"
      },
      "outputs": [],
      "source": [
        "students.insert(3,\"uma\")"
      ]
    },
    {
      "cell_type": "code",
      "execution_count": null,
      "id": "825429a7",
      "metadata": {
        "id": "825429a7",
        "outputId": "60d246a6-0829-47d4-c656-d41bae2669a5"
      },
      "outputs": [
        {
          "name": "stdout",
          "output_type": "stream",
          "text": [
            "['saksham', 'divya', 'santosh', 'uma', 'neeraj', 'satwik', 'uma', 'pritwish', 'Dona', 'diya', 'ketam']\n"
          ]
        }
      ],
      "source": [
        "print(students)"
      ]
    },
    {
      "cell_type": "code",
      "execution_count": null,
      "id": "f252c4b1",
      "metadata": {
        "id": "f252c4b1",
        "outputId": "739411bb-78c3-4cdb-c509-3a9639858699"
      },
      "outputs": [
        {
          "data": {
            "text/plain": [
              "5"
            ]
          },
          "execution_count": 67,
          "metadata": {},
          "output_type": "execute_result"
        }
      ],
      "source": [
        "students.index(\"uma\")\n"
      ]
    },
    {
      "cell_type": "code",
      "execution_count": null,
      "id": "f11264c5",
      "metadata": {
        "id": "f11264c5"
      },
      "outputs": [],
      "source": [
        "# jupyter notebook"
      ]
    },
    {
      "cell_type": "code",
      "execution_count": null,
      "id": "27b10059",
      "metadata": {
        "id": "27b10059"
      },
      "outputs": [],
      "source": []
    }
  ],
  "metadata": {
    "kernelspec": {
      "display_name": "Python 3 (ipykernel)",
      "language": "python",
      "name": "python3"
    },
    "language_info": {
      "codemirror_mode": {
        "name": "ipython",
        "version": 3
      },
      "file_extension": ".py",
      "mimetype": "text/x-python",
      "name": "python",
      "nbconvert_exporter": "python",
      "pygments_lexer": "ipython3",
      "version": "3.9.7"
    },
    "colab": {
      "provenance": [],
      "include_colab_link": true
    }
  },
  "nbformat": 4,
  "nbformat_minor": 5
}